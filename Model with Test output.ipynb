{
 "cells": [
  {
   "cell_type": "markdown",
   "id": "d1cf7e2b",
   "metadata": {},
   "source": []
  },
  {
   "cell_type": "code",
   "execution_count": 17,
   "id": "ac27a63a",
   "metadata": {},
   "outputs": [
    {
     "name": "stdout",
     "output_type": "stream",
     "text": [
      "Predictions saved to: C:\\Users\\james\\Documents\\Capstone\\Final\\results.csv\n"
     ]
    }
   ],
   "source": [
    "import pandas as pd\n",
    "import joblib\n",
    "import os\n",
    "\n",
    "# Load the test data\n",
    "test_df = pd.read_csv(r'C:\\Users\\james\\Documents\\Capstone\\Final\\synthetic_test_data.csv')\n",
    "\n",
    "# Ensure correct data types\n",
    "test_df['subscriber_id'] = test_df['subscriber_id'].astype(int)\n",
    "test_df['email_frequency_per_week'] = test_df['email_frequency_per_week'].astype(int)\n",
    "test_df['email_send_hour'] = test_df['email_send_hour'].astype(int)\n",
    "test_df['personalized'] = test_df['personalized'].astype(int)\n",
    "#df['spam_complaints'] = df['spam_complaints'].astype(int)\n",
    "test_df['time_in_business'] = test_df['time_in_business'].astype(int)\n",
    "test_df['unsubscribe'] = test_df['unsubscribe'].astype(int)\n",
    "\n",
    "# Load the saved model and scaler\n",
    "gb_model_path = r'C:\\Users\\james\\Documents\\Capstone\\Final\\gradient_boosting_model.pkl'\n",
    "rf_model_path = r'C:\\Users\\james\\Documents\\Capstone\\Final\\Random_Forest.pkl'\n",
    "scaler_path = r'C:\\Users\\james\\Documents\\Capstone\\Final\\scaler.pkl'\n",
    "\n",
    "gb_loaded_model = joblib.load(gb_model_path)\n",
    "rf_loaded_model = joblib.load(rf_model_path)\n",
    "scaler = joblib.load(scaler_path)\n",
    "\n",
    "# Preprocess the test data\n",
    "X_test = test_df.drop(['unsubscribe','subscriber_id'], axis=1, errors='ignore')  # Drop 'unsubscribe' column if it exists\n",
    "X_test_scaled = scaler.transform(X_test)\n",
    "\n",
    "# Make predictions\n",
    "gb_predictions = gb_loaded_model.predict_proba(X_test_scaled)[:,1]\n",
    "rf_predictions = rf_loaded_model.predict_proba(X_test_scaled)[:,1]\n",
    "\n",
    "test_df['gb_predictions'] = gb_predictions\n",
    "test_df['rf_predictions'] = rf_predictions\n",
    "\n",
    "# Save the results\n",
    "results_path = r'C:\\Users\\james\\Documents\\Capstone\\Final\\results.csv'\n",
    "test_df.to_csv(results_path, index=False)\n",
    "print(\"Predictions saved to:\", results_path)\n",
    "\n"
   ]
  }
 ],
 "metadata": {
  "kernelspec": {
   "display_name": "Python 3 (ipykernel)",
   "language": "python",
   "name": "python3"
  },
  "language_info": {
   "codemirror_mode": {
    "name": "ipython",
    "version": 3
   },
   "file_extension": ".py",
   "mimetype": "text/x-python",
   "name": "python",
   "nbconvert_exporter": "python",
   "pygments_lexer": "ipython3",
   "version": "3.11.7"
  }
 },
 "nbformat": 4,
 "nbformat_minor": 5
}
