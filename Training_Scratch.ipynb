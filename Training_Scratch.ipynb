{
 "cells": [
  {
   "cell_type": "markdown",
   "id": "5b1b99ab",
   "metadata": {},
   "source": [
    "# 2. Train Several models and generate report"
   ]
  },
  {
   "cell_type": "code",
   "execution_count": 9,
   "id": "be63994e",
   "metadata": {},
   "outputs": [],
   "source": [
    "import pandas as pd\n",
    "from sklearn.linear_model import LogisticRegression\n",
    "from sklearn.tree import DecisionTreeClassifier\n",
    "from sklearn.ensemble import RandomForestClassifier, GradientBoostingClassifier\n",
    "from sklearn.svm import SVC\n",
    "from sklearn.neighbors import KNeighborsClassifier\n",
    "from sklearn.metrics import accuracy_score, precision_score, recall_score, f1_score\n",
    "from sklearn.model_selection import train_test_split\n",
    "from sklearn.preprocessing import StandardScaler\n"
   ]
  },
  {
   "cell_type": "code",
   "execution_count": 11,
   "id": "4976775a",
   "metadata": {},
   "outputs": [
    {
     "name": "stdout",
     "output_type": "stream",
     "text": [
      "X_train shape: (8000, 6)\n",
      "X_test shape: (2000, 6)\n",
      "y_train shape: (8000,)\n",
      "y_test shape: (2000,)\n"
     ]
    }
   ],
   "source": [
    "#Load the data\n",
    "df = pd.read_csv(r'C:\\Users\\james\\Documents\\Capstone\\Final\\synthetic_email_data.csv')\n",
    "\n",
    "\n",
    "# Prepare for Scaling and Splitting\n",
    "\n",
    "# Ensure correct data types\n",
    "df['subscriber_id'] = df['subscriber_id'].astype(int)\n",
    "df['email_frequency_per_week'] = df['email_frequency_per_week'].astype(int)\n",
    "df['email_send_hour'] = df['email_send_hour'].astype(int)\n",
    "df['personalized'] = df['personalized'].astype(int)\n",
    "#df['spam_complaints'] = df['spam_complaints'].astype(int)\n",
    "df['time_in_business'] = df['time_in_business'].astype(int)\n",
    "df['unsubscribe'] = df['unsubscribe'].astype(int)\n",
    "\n",
    "# Separate features and target\n",
    "X = df.drop(['subscriber_id', 'unsubscribe'], axis=1)\n",
    "y = df['unsubscribe']\n",
    "\n",
    "# Split the data into training and testing sets\n",
    "X_train, X_test, y_train, y_test = train_test_split(X, y, test_size=0.2, random_state=42)\n",
    "\n",
    "# Scale the features\n",
    "scaler = StandardScaler()\n",
    "X_train_scaled = scaler.fit_transform(X_train)\n",
    "X_test_scaled = scaler.transform(X_test)\n",
    "\n",
    "# Display the shapes of the resulting datasets\n",
    "print(f\"X_train shape: {X_train.shape}\")\n",
    "print(f\"X_test shape: {X_test.shape}\")\n",
    "print(f\"y_train shape: {y_train.shape}\")\n",
    "print(f\"y_test shape: {y_test.shape}\")\n"
   ]
  },
  {
   "cell_type": "code",
   "execution_count": 12,
   "id": "78785366",
   "metadata": {},
   "outputs": [
    {
     "name": "stdout",
     "output_type": "stream",
     "text": [
      "                        Accuracy  Precision    Recall  F1 Score\n",
      "Logistic Regression       0.7925   0.794621  0.495427  0.610329\n",
      "Decision Tree             0.6995   0.538354  0.588415  0.562272\n",
      "Random Forest             0.8215   0.977636  0.466463  0.631579\n",
      "Support Vector Machine    0.8095   0.936508  0.449695  0.607621\n",
      "K-Nearest Neighbors       0.7650   0.723558  0.458841  0.561567\n",
      "Gradient Boosting         0.8245   0.990354  0.469512  0.637022\n"
     ]
    }
   ],
   "source": [
    "# Initialize models\n",
    "models = {\n",
    "    'Logistic Regression': LogisticRegression(random_state=42),\n",
    "    'Decision Tree': DecisionTreeClassifier(random_state=42),\n",
    "    'Random Forest': RandomForestClassifier(random_state=42),\n",
    "    'Support Vector Machine': SVC(random_state=42),\n",
    "    'K-Nearest Neighbors': KNeighborsClassifier(),\n",
    "    'Gradient Boosting': GradientBoostingClassifier(random_state=42)\n",
    "}\n",
    "\n",
    "# Train and evaluate models\n",
    "results = {}\n",
    "\n",
    "for model_name, model in models.items():\n",
    "    # Train the model\n",
    "    model.fit(X_train_scaled, y_train)\n",
    "    \n",
    "    # Make predictions\n",
    "    y_pred = model.predict(X_test_scaled)\n",
    "    \n",
    "    # Evaluate the model\n",
    "    accuracy = accuracy_score(y_test, y_pred)\n",
    "    precision = precision_score(y_test, y_pred)\n",
    "    recall = recall_score(y_test, y_pred)\n",
    "    f1 = f1_score(y_test, y_pred)\n",
    "    \n",
    "    # Store the results\n",
    "    results[model_name] = {\n",
    "        'Accuracy': accuracy,\n",
    "        'Precision': precision,\n",
    "        'Recall': recall,\n",
    "        'F1 Score': f1\n",
    "    }\n",
    "\n",
    "# Display the results\n",
    "results_df = pd.DataFrame(results).T\n",
    "print(results_df)\n"
   ]
  }
 ],
 "metadata": {
  "kernelspec": {
   "display_name": "Python 3 (ipykernel)",
   "language": "python",
   "name": "python3"
  },
  "language_info": {
   "codemirror_mode": {
    "name": "ipython",
    "version": 3
   },
   "file_extension": ".py",
   "mimetype": "text/x-python",
   "name": "python",
   "nbconvert_exporter": "python",
   "pygments_lexer": "ipython3",
   "version": "3.11.7"
  }
 },
 "nbformat": 4,
 "nbformat_minor": 5
}
